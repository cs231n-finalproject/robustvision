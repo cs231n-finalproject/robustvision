{
 "cells": [
  {
   "cell_type": "code",
   "execution_count": null,
   "metadata": {},
   "outputs": [],
   "source": [
    "import os\n",
    "import numpy as np\n",
    "import pandas as pd\n",
    "import seaborn as sns\n",
    "from functools import partial\n",
    "sns.set()\n",
    "sns.set_style(\"whitegrid\")\n",
    "import matplotlib\n",
    "import matplotlib.pyplot as plt"
   ]
  },
  {
   "cell_type": "code",
   "execution_count": null,
   "metadata": {},
   "outputs": [],
   "source": [
    "df_path = '../data/competition_results.csv'\n",
    "df = pd.read_csv(df_path)"
   ]
  },
  {
   "cell_type": "code",
   "execution_count": null,
   "metadata": {},
   "outputs": [],
   "source": [
    "legit_corrs = {\n",
    "    'public_spearman': df[df['labels'].isin(['non-mem'])][['FID_public','distance_public']].corr(method='spearman').iloc[0, 1],\n",
    "    'private_spearman': df[df['labels'].isin(['non-mem'])][['FID_private','distance_private']].corr(method='spearman').iloc[0, 1],\n",
    "    'public_pearson': df[df['labels'].isin(['non-mem'])][['FID_public','distance_public']].corr(method='pearson').iloc[0, 1],\n",
    "    'private_pearson': df[df['labels'].isin(['non-mem'])][['FID_private','distance_private']].corr(method='pearson').iloc[0, 1],\n",
    "}\n",
    "print(legit_corrs)"
   ]
  },
  {
   "cell_type": "code",
   "execution_count": null,
   "metadata": {},
   "outputs": [],
   "source": [
    "fontsize = 14\n",
    "fontfamily = 'Times New Roman'\n",
    "fig, ax = plt.subplots(figsize=(6,6))\n",
    "ax.set_xlim((0, 140))\n",
    "ax.set_ylim((0.15, 0.45))\n",
    "\n",
    "sns.regplot(x=\"FID_public\", y=\"distance_public\", \n",
    "            data=df[df['labels'].isin(['non-mem'])][['FID_public', 'distance_public']],\n",
    "            scatter_kws={\"s\": 3}, truncate=False, ax=ax, label='public')\n",
    "ax.text(25, 0.375, f\"corr(Pearson) = {legit_corrs['public_pearson']:.4f}\", fontsize=fontsize, # color='C1',\n",
    "        bbox={'facecolor': 'white', 'alpha': 0.5, 'pad': 5})\n",
    "\n",
    "sns.regplot(x=\"FID_private\", y=\"distance_private\", \n",
    "            data=df[df['labels'].isin(['non-mem'])][['FID_private', 'distance_private']],\n",
    "            scatter_kws={\"s\": 3}, truncate=False, ax=ax, label='private')\n",
    "ax.text(60, 0.19, f\"corr(Pearson) = {legit_corrs['private_pearson']:.4f}\", fontsize=fontsize, # color='C0',\n",
    "        bbox={'facecolor': 'white', 'alpha': 0.5, 'pad': 5})\n",
    "ax.legend(prop={'size': fontsize, 'family': fontfamily})\n",
    "ax.set_xlabel('FID', fontsize=fontsize, fontfamily=fontfamily)\n",
    "ax.set_ylabel('memorization distance', fontsize=fontsize, fontfamily=fontfamily)\n",
    "\n",
    "# plt.savefig('fid-mem_dist-corr.pdf', bbox_inches='tight')"
   ]
  },
  {
   "cell_type": "code",
   "execution_count": null,
   "metadata": {},
   "outputs": [],
   "source": [
    "fontsize = 14\n",
    "fontfamily = 'Times New Roman'\n",
    "fig, ax = plt.subplots(figsize=(6,6))\n",
    "ax.set_xlim((0.15, 0.45))\n",
    "ax.set_ylim((0, 100))\n",
    "mems = ['aug', 'sup', 'mgan', 'ae']\n",
    "print(df[df['labels'].isin(mems)][\"distance_private\"].shape)\n",
    "sns.histplot(df[df['labels'].isin(mems)][\"distance_private\"], \n",
    "             label=\"memorized\", kde=False, ax=ax, color='C0', binwidth=0.00275)\n",
    "print(df[df['labels'].isin(['non-mem'])][\"distance_private\"].shape)\n",
    "sns.histplot(df[df['labels'].isin(['non-mem'])][\"distance_private\"], \n",
    "             label=\"non-memorized\", kde=False, ax=ax, color='C1', binwidth=0.00275)\n",
    "ax.legend(prop={'size': fontsize, 'family': fontfamily})\n",
    "ax.set_xlabel('memorization distance', fontsize=fontsize, fontfamily=fontfamily)\n",
    "ax.set_ylabel('Count', fontsize=fontsize, fontfamily=fontfamily)\n",
    "# plt.savefig('dist-histogram-private.pdf', bbox_inches='tight')"
   ]
  },
  {
   "cell_type": "code",
   "execution_count": null,
   "metadata": {},
   "outputs": [],
   "source": [
    "fontsize = 14\n",
    "fontfamily = 'Times New Roman'\n",
    "fig, ax = plt.subplots(figsize=(6,6))\n",
    "ax.set_xlim((0.05, 0.3))\n",
    "ax.set_ylim((0, 100))\n",
    "mems = ['aug', 'sup', 'mgan', 'ae']\n",
    "print(df[df['labels'].isin(mems)][\"distance_public\"].shape)\n",
    "sns.histplot(df[df['labels'].isin(mems)][\"distance_public\"], \n",
    "             label=\"memorized\", kde=False, ax=ax, color='C0')\n",
    "print(df[df['labels'].isin(['non-mem'])][\"distance_public\"].shape)\n",
    "sns.histplot(df[df['labels'].isin(['non-mem'])][\"distance_public\"], \n",
    "             label=\"non-memorized\", kde=False, ax=ax, color='C1')\n",
    "ax.legend(prop={'size': fontsize, 'family': fontfamily})\n",
    "ax.set_xlabel('memorization distance', fontsize=fontsize, fontfamily=fontfamily)\n",
    "ax.set_ylabel('Count', fontsize=fontsize, fontfamily=fontfamily)\n",
    "# plt.savefig('dist-histogram-public.pdf', bbox_inches='tight')"
   ]
  },
  {
   "cell_type": "code",
   "execution_count": null,
   "metadata": {},
   "outputs": [],
   "source": [
    "fontsize = 14\n",
    "fontfamily = 'Times New Roman'\n",
    "sns.set_style(\"whitegrid\")\n",
    "fig, ax = plt.subplots(figsize=(6,6))\n",
    "ax.set_xlim((0, 120))\n",
    "ax.set_ylim((20, 140))\n",
    "sns.scatterplot(x=\"FID_public\", y=\"FID_private\", hue='labels', style='labels', s=50,\n",
    "                data=df[df['labels'].notnull()], ax=ax, \n",
    "                hue_order=['non-mem', 'mgan', 'aug', 'sup', 'ae'],\n",
    "                palette={'aug': 'C0', 'sup': 'C1', 'mgan': 'C2', 'non-mem': 'C3', 'ae': 'C4'},)\n",
    "\n",
    "ax.legend(loc='best', prop={'size': fontsize, 'family': fontfamily})\n",
    "ax.set_xlabel('FID Inception (public)', fontsize=fontsize, fontfamily=fontfamily)\n",
    "ax.set_ylabel('FID NASNet (private)', fontsize=fontsize, fontfamily=fontfamily)\n",
    "\n",
    "# plt.savefig('mem-fid.pdf', bbox_inches='tight')"
   ]
  },
  {
   "cell_type": "code",
   "execution_count": null,
   "metadata": {},
   "outputs": [],
   "source": [
    "fontsize = 14\n",
    "fontfamily = 'Times New Roman'\n",
    "sns.set_style(\"whitegrid\")\n",
    "fig, ax = plt.subplots(figsize=(6,6))\n",
    "ax.set_xlim((0, 0.3))\n",
    "ax.set_ylim((0.15, 0.45))\n",
    "sns.scatterplot(x=\"distance_public\", y=\"distance_private\", hue='labels', style='labels', s=50,\n",
    "                data=df[df['labels'].notnull()], ax=ax, \n",
    "                hue_order=['non-mem', 'mgan', 'aug', 'sup', 'ae'],\n",
    "                palette={'aug': 'C0', 'sup': 'C1', 'mgan': 'C2', 'non-mem': 'C3', 'ae': 'C4'},)\n",
    "\n",
    "ax.legend(loc='best', prop={'size': fontsize, 'family': fontfamily})\n",
    "ax.set_xlabel('mem-distance Inception (public)', fontsize=fontsize, fontfamily=fontfamily)\n",
    "ax.set_ylabel('mem-distance NASNet (private)', fontsize=fontsize, fontfamily=fontfamily)\n",
    "\n",
    "# plt.title(\"Manual Labels of different cheating methods and the scores distribution\")\n",
    "\n",
    "# plt.show(ax)\n",
    "# plt.savefig('mem-distance.pdf', bbox_inches='tight')"
   ]
  },
  {
   "cell_type": "code",
   "execution_count": null,
   "metadata": {},
   "outputs": [],
   "source": [
    "fid_corr_spearman = df[['FID_private','FID_public']].corr(method='spearman').iloc[0, 1]\n",
    "\n",
    "fontsize = 14\n",
    "fontfamily = 'Times New Roman'\n",
    "fig, ax = plt.subplots(figsize=(6,6))\n",
    "ax.set_xlim((0, 600))\n",
    "ax.set_ylim((0, 600))\n",
    "\n",
    "sns.regplot(x=\"FID_public\", y=\"FID_private\", \n",
    "            data=df, scatter_kws={\"s\": 3}, ax=ax)\n",
    "ax.text(250, 150, f'corr(Spearman)= {fid_corr_spearman:.4f}', \n",
    "        fontsize=fontsize, fontfamily=fontfamily,\n",
    "        bbox={'facecolor': 'white', 'alpha': 0.5, 'pad': 5})\n",
    "\n",
    "ax.set_xlabel('FID Inception (public)', fontsize=fontsize, fontfamily=fontfamily)\n",
    "ax.set_ylabel('FID NASNet (private)', fontsize=fontsize, fontfamily=fontfamily)\n",
    "# plt.savefig('fid-public-private.pdf', bbox_inches='tight')"
   ]
  },
  {
   "cell_type": "code",
   "execution_count": null,
   "metadata": {},
   "outputs": [],
   "source": [
    "# calculate the mean abs rank diff\n",
    "public_rank = df['FID_public'].argsort().argsort()\n",
    "private_rank = df['FID_private'].argsort().argsort()\n",
    "mean_abs_rank_diff = (public_rank - private_rank).abs().mean()\n",
    "print(mean_abs_rank_diff, public_rank.shape, private_rank.shape)\n",
    "\n",
    "public_rank_legit = df[df['labels'].isin(['non-mem'])]['FID_public'].argsort().argsort()\n",
    "private_rank_legit = df[df['labels'].isin(['non-mem'])]['FID_private'].argsort().argsort()\n",
    "mean_abs_rank_diff_legit = (public_rank_legit - private_rank_legit).abs().mean()\n",
    "print(mean_abs_rank_diff_legit, public_rank_legit.shape, private_rank_legit.shape)\n",
    "\n",
    "i = 5\n",
    "top_i_indices_public = df[df['labels'].isin(['non-mem'])]['FID_public'].argsort().iloc[:i].values\n",
    "top_i_indices_private = df[df['labels'].isin(['non-mem'])]['FID_private'].argsort().iloc[:i].values\n",
    "print(top_i_indices_public)\n",
    "print(top_i_indices_private)\n",
    "print(len(set(top_i_indices_public).intersection(top_i_indices_private)))"
   ]
  },
  {
   "cell_type": "code",
   "execution_count": null,
   "metadata": {},
   "outputs": [],
   "source": []
  }
 ],
 "metadata": {
  "kernelspec": {
   "display_name": "Python 3",
   "language": "python",
   "name": "python3"
  },
  "language_info": {
   "codemirror_mode": {
    "name": "ipython",
    "version": 3
   },
   "file_extension": ".py",
   "mimetype": "text/x-python",
   "name": "python",
   "nbconvert_exporter": "python",
   "pygments_lexer": "ipython3",
   "version": "3.7.7"
  }
 },
 "nbformat": 4,
 "nbformat_minor": 4
}
